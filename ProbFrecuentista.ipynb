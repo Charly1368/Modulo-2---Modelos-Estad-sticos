{
  "nbformat": 4,
  "nbformat_minor": 0,
  "metadata": {
    "colab": {
      "provenance": [],
      "authorship_tag": "ABX9TyNBNQej50eaRXQTFc9/W0Bk",
      "include_colab_link": true
    },
    "kernelspec": {
      "name": "python3",
      "display_name": "Python 3"
    },
    "language_info": {
      "name": "python"
    }
  },
  "cells": [
    {
      "cell_type": "markdown",
      "metadata": {
        "id": "view-in-github",
        "colab_type": "text"
      },
      "source": [
        "<a href=\"https://colab.research.google.com/github/Charly1368/Modulo-2---Modelos-Estad-sticos/blob/main/ProbFrecuentista.ipynb\" target=\"_parent\"><img src=\"https://colab.research.google.com/assets/colab-badge.svg\" alt=\"Open In Colab\"/></a>"
      ]
    },
    {
      "cell_type": "markdown",
      "source": [
        "# Probabilidad Frecuentista\n",
        "\n",
        "Tenemos la hipótesis de que le espacio muestral es un conjunto finito, podemos definir la probabilidad asociada a un evento $A$:\n",
        "\n",
        "$$ f_"
      ],
      "metadata": {
        "id": "LBQCUmbJOnD6"
      }
    },
    {
      "cell_type": "code",
      "source": [
        "import random"
      ],
      "metadata": {
        "id": "si9ENszEPBER"
      },
      "execution_count": 5,
      "outputs": []
    },
    {
      "cell_type": "markdown",
      "source": [
        "Se tiene el lanzamiento de monedas injustas (volado)"
      ],
      "metadata": {
        "id": "yaWeESWrPLt3"
      }
    },
    {
      "cell_type": "code",
      "source": [
        "def volado(p):\n",
        "  return 'sol' if random.random() < p else 'águila'"
      ],
      "metadata": {
        "id": "5isxhR6qPTNe"
      },
      "execution_count": 6,
      "outputs": []
    },
    {
      "cell_type": "code",
      "source": [
        "volado(0.4)"
      ],
      "metadata": {
        "colab": {
          "base_uri": "https://localhost:8080/",
          "height": 35
        },
        "id": "6S9zWmH5PwzW",
        "outputId": "a3123323-4912-4dfe-b853-c37a638adf92"
      },
      "execution_count": 7,
      "outputs": [
        {
          "output_type": "execute_result",
          "data": {
            "text/plain": [
              "'águila'"
            ],
            "application/vnd.google.colaboratory.intrinsic+json": {
              "type": "string"
            }
          },
          "metadata": {},
          "execution_count": 7
        }
      ]
    },
    {
      "cell_type": "code",
      "source": [
        "a = [volado(0.4) for i in range(10)]\n",
        "a"
      ],
      "metadata": {
        "colab": {
          "base_uri": "https://localhost:8080/"
        },
        "id": "lOwH1tEpQQQe",
        "outputId": "d7f18852-d105-4948-b07c-ed7b8cfad823"
      },
      "execution_count": 10,
      "outputs": [
        {
          "output_type": "execute_result",
          "data": {
            "text/plain": [
              "['águila',\n",
              " 'águila',\n",
              " 'sol',\n",
              " 'águila',\n",
              " 'sol',\n",
              " 'águila',\n",
              " 'águila',\n",
              " 'sol',\n",
              " 'sol',\n",
              " 'águila']"
            ]
          },
          "metadata": {},
          "execution_count": 10
        }
      ]
    },
    {
      "cell_type": "code",
      "source": [
        "a.count('sol')"
      ],
      "metadata": {
        "colab": {
          "base_uri": "https://localhost:8080/"
        },
        "id": "nqATTBWwQj5v",
        "outputId": "792a6b52-fb85-4ffe-c1b0-a2a75478a7c5"
      },
      "execution_count": 11,
      "outputs": [
        {
          "output_type": "execute_result",
          "data": {
            "text/plain": [
              "4"
            ]
          },
          "metadata": {},
          "execution_count": 11
        }
      ]
    },
    {
      "cell_type": "code",
      "source": [
        "resultados = [] # Lista vacia\n",
        "\n",
        "for i in range(10):\n",
        "  resultado = volado(0.4)\n",
        "  resultados.append(resultado)\n",
        "resultados"
      ],
      "metadata": {
        "colab": {
          "base_uri": "https://localhost:8080/"
        },
        "id": "koKuEydLQ2Se",
        "outputId": "06925c2e-6586-42ed-ff00-9adfbff438fa"
      },
      "execution_count": 16,
      "outputs": [
        {
          "output_type": "execute_result",
          "data": {
            "text/plain": [
              "['águila',\n",
              " 'águila',\n",
              " 'águila',\n",
              " 'águila',\n",
              " 'águila',\n",
              " 'sol',\n",
              " 'sol',\n",
              " 'águila',\n",
              " 'sol',\n",
              " 'águila']"
            ]
          },
          "metadata": {},
          "execution_count": 16
        }
      ]
    },
    {
      "cell_type": "code",
      "source": [
        "# vamos a simular nuestra probabilidad frecuentista\n",
        "p = [] # Lista para almacenar las probabilidades\n",
        "\n",
        "for i in range(1000): # Simula 1000 experimientos\n",
        "    N = 10 # Número de lanzamientos\n",
        "    resultados = []\n",
        "\n",
        "    for i in range(N):\n",
        "        resultado = volado(0.63)\n",
        "        resultados.append(resultado)\n",
        "\n",
        "    n_soles = resultados.count('sol') # Cuenta el núemro de soles\n",
        "    p_soles = n_soles / N # Calcula la proporción\n",
        "\n",
        "    p.append(p_soles)\n",
        "\n",
        "# probabilidad promedio\n",
        "P_soles_prom = sum(p) / 1000\n",
        "\n",
        "print('Probabilidad {:.3f}'.format(P_soles_prom))"
      ],
      "metadata": {
        "colab": {
          "base_uri": "https://localhost:8080/"
        },
        "id": "_Z56srnvRJo-",
        "outputId": "d0ee2fff-07e6-409d-b6ac-2bffa36b7b91"
      },
      "execution_count": 19,
      "outputs": [
        {
          "output_type": "stream",
          "name": "stdout",
          "text": [
            "Probabilidad 0.624\n"
          ]
        }
      ]
    }
  ]
}