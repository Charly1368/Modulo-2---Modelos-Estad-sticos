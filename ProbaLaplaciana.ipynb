{
  "cells": [
    {
      "cell_type": "markdown",
      "metadata": {
        "id": "view-in-github",
        "colab_type": "text"
      },
      "source": [
        "<a href=\"https://colab.research.google.com/github/Charly1368/Modulo-2---Modelos-Estad-sticos/blob/main/ProbaLaplaciana.ipynb\" target=\"_parent\"><img src=\"https://colab.research.google.com/assets/colab-badge.svg\" alt=\"Open In Colab\"/></a>"
      ]
    },
    {
      "cell_type": "markdown",
      "id": "c571062d-f6ab-4f85-85a1-951ed0eef832",
      "metadata": {
        "id": "c571062d-f6ab-4f85-85a1-951ed0eef832"
      },
      "source": [
        "# Equipo 1\n",
        "## Integrantes\n",
        "* Nombre 1\n",
        "* Nombre 2"
      ]
    },
    {
      "cell_type": "markdown",
      "id": "ab494890-cea1-47f8-97de-7f4de0ec4174",
      "metadata": {
        "id": "ab494890-cea1-47f8-97de-7f4de0ec4174"
      },
      "source": [
        "# Probabilidad Laplaciana (clásica)\n",
        "Para un experimento aleatorio, se tiene que $\\Omega$ es el espacio muestral.\n",
        "\n",
        "Sea $A$ un evento, entonces\n",
        "\n",
        "$$ \\mathbb{P}(A) = \\frac{\\#A}{\\#\\Omega} $$\n",
        "\n",
        "**EJEMPLO:** Sea el experimento de lanzar una moneda 3 veces, de manera independiente (es decir, el $i$-ésimo lanzamiento no me afecta al $i+1$ lanzamiento). El espacio muestral de este experimento es:\n",
        "\n",
        "$$ \\Omega = \\{A,S\\} \\times \\{A,S\\} \\times \\{A,S\\} = \\{A,S\\}^3 $$\n",
        "y tenemos que $\\#\\Omega = 2^3$.\n",
        "\n",
        "Sean los eventos:\n",
        "* $A$: todos los resultados son águila\n",
        "* $S$: todos los resultados son soles\n",
        "* $E$: Por lo menos un resultado es sol\n",
        "  \n",
        "Calcular las probabilidades de estos eventos:\n",
        "\n",
        "**Solución** Vamos a descomponer mi conjunto $A$ de la siguiente manera:\n",
        "$$A = A_1 \\cap A_2 \\cap A_3 $$\n",
        "donde $A_i$: caé águila en el $i$-ésimo resultado."
      ]
    },
    {
      "cell_type": "code",
      "execution_count": null,
      "id": "3f14bb3f-5cbf-432a-9482-a2fbb7201452",
      "metadata": {
        "id": "3f14bb3f-5cbf-432a-9482-a2fbb7201452",
        "outputId": "94c753d6-13e3-4c65-f55b-64bd3db1441d"
      },
      "outputs": [
        {
          "data": {
            "text/plain": [
              "{('A', 'A', 'A'),\n",
              " ('A', 'A', 'S'),\n",
              " ('A', 'S', 'A'),\n",
              " ('A', 'S', 'S'),\n",
              " ('S', 'A', 'A'),\n",
              " ('S', 'A', 'S'),\n",
              " ('S', 'S', 'A'),\n",
              " ('S', 'S', 'S')}"
            ]
          },
          "execution_count": 3,
          "metadata": {},
          "output_type": "execute_result"
        }
      ],
      "source": [
        "# Vamos a crear el espacio muestral\n",
        "import itertools #importamos el modulo\n",
        "from itertools import product\n",
        "\n",
        "Omega = set( product({\"A\",\"S\"},repeat=3 ))\n",
        "Omega"
      ]
    },
    {
      "cell_type": "code",
      "execution_count": null,
      "id": "2ddc618a-9fbd-4c4f-9882-9acef29830b3",
      "metadata": {
        "id": "2ddc618a-9fbd-4c4f-9882-9acef29830b3",
        "outputId": "5fc1fe51-64d1-4ae2-e116-31f22d5c7a52"
      },
      "outputs": [
        {
          "data": {
            "text/plain": [
              "8"
            ]
          },
          "execution_count": 4,
          "metadata": {},
          "output_type": "execute_result"
        }
      ],
      "source": [
        "len(Omega) # cardinalidad de Omega"
      ]
    },
    {
      "cell_type": "code",
      "execution_count": null,
      "id": "3d9729e7-f4a9-4b56-b80b-ddb93f28bca6",
      "metadata": {
        "id": "3d9729e7-f4a9-4b56-b80b-ddb93f28bca6",
        "outputId": "aaf01dac-e0f6-4a7a-95ae-2aad0963c217"
      },
      "outputs": [
        {
          "data": {
            "text/plain": [
              "{('A', 'A', 'A'), ('A', 'A', 'S'), ('A', 'S', 'A'), ('A', 'S', 'S')}"
            ]
          },
          "execution_count": 5,
          "metadata": {},
          "output_type": "execute_result"
        }
      ],
      "source": [
        "# Vamos a crear el evento A_1\n",
        "A_1 = { om for om in Omega if om[0]==\"A\"} # la primera coordenada es águila\n",
        "A_1"
      ]
    },
    {
      "cell_type": "code",
      "execution_count": null,
      "id": "fd18265c-7d78-4594-bfbd-c83125602eee",
      "metadata": {
        "id": "fd18265c-7d78-4594-bfbd-c83125602eee",
        "outputId": "d2f4de66-2cd6-4848-bbcc-fb8889564af4"
      },
      "outputs": [
        {
          "data": {
            "text/plain": [
              "{('A', 'A', 'A'), ('A', 'A', 'S'), ('S', 'A', 'A'), ('S', 'A', 'S')}"
            ]
          },
          "execution_count": 6,
          "metadata": {},
          "output_type": "execute_result"
        }
      ],
      "source": [
        "# Vamos a crear el evento A_2\n",
        "A_2 = { om for om in Omega if om[1]==\"A\"} # la segunda coordenada es águila\n",
        "A_2"
      ]
    },
    {
      "cell_type": "code",
      "execution_count": null,
      "id": "fcedf772-c10b-42eb-bcd1-2609e928b7f6",
      "metadata": {
        "id": "fcedf772-c10b-42eb-bcd1-2609e928b7f6",
        "outputId": "522f2f21-e395-428a-bc6c-d2d9a300f1ac"
      },
      "outputs": [
        {
          "data": {
            "text/plain": [
              "{('A', 'A', 'A'), ('A', 'S', 'A'), ('S', 'A', 'A'), ('S', 'S', 'A')}"
            ]
          },
          "execution_count": 7,
          "metadata": {},
          "output_type": "execute_result"
        }
      ],
      "source": [
        "# Vamos a crear el evento A_3\n",
        "A_3 = { om for om in Omega if om[2]==\"A\"} # la tercera coordenada es águila\n",
        "A_3"
      ]
    },
    {
      "cell_type": "code",
      "execution_count": null,
      "id": "3d2df1cd-fef2-4118-9e1b-684e29dec5df",
      "metadata": {
        "id": "3d2df1cd-fef2-4118-9e1b-684e29dec5df",
        "outputId": "150729bc-f3df-45bb-82d6-4f4990075852"
      },
      "outputs": [
        {
          "data": {
            "text/plain": [
              "{('A', 'A', 'A')}"
            ]
          },
          "execution_count": 8,
          "metadata": {},
          "output_type": "execute_result"
        }
      ],
      "source": [
        "# Vamos a crear el evento A\n",
        "A = A_1.intersection(A_2.intersection(A_3))\n",
        "A"
      ]
    },
    {
      "cell_type": "code",
      "execution_count": null,
      "id": "1e85025c-737d-4d29-b537-ad1c974dc245",
      "metadata": {
        "id": "1e85025c-737d-4d29-b537-ad1c974dc245",
        "outputId": "2d003f55-15ca-4099-96af-a4408b27bab0"
      },
      "outputs": [
        {
          "data": {
            "text/plain": [
              "1"
            ]
          },
          "execution_count": 9,
          "metadata": {},
          "output_type": "execute_result"
        }
      ],
      "source": [
        "len(A)"
      ]
    },
    {
      "cell_type": "code",
      "execution_count": null,
      "id": "a9befcc4-9965-4dc1-8889-085a245bd099",
      "metadata": {
        "id": "a9befcc4-9965-4dc1-8889-085a245bd099",
        "outputId": "6f2e1d7f-cb15-49ca-fc58-bd645fabb87e"
      },
      "outputs": [
        {
          "data": {
            "text/plain": [
              "0.125"
            ]
          },
          "execution_count": 10,
          "metadata": {},
          "output_type": "execute_result"
        }
      ],
      "source": [
        "# Vamos a calcular la probabilidad de A\n",
        "P_A = len(A) / len(Omega)\n",
        "P_A"
      ]
    },
    {
      "cell_type": "markdown",
      "id": "cd54a257-0e41-44ee-9304-f72ba089cbc0",
      "metadata": {
        "id": "cd54a257-0e41-44ee-9304-f72ba089cbc0"
      },
      "source": [
        "Yo quiero expresar mi resultado en fracción, esto se hace de la siguiente manera:"
      ]
    },
    {
      "cell_type": "code",
      "execution_count": null,
      "id": "d21ade82-1215-42ea-92b3-9752417cb12f",
      "metadata": {
        "id": "d21ade82-1215-42ea-92b3-9752417cb12f"
      },
      "outputs": [],
      "source": [
        "from fractions import Fraction\n",
        "\n",
        "def p(E,Omega):\n",
        "    p = Fraction(len(E),len(Omega))\n",
        "    return p"
      ]
    },
    {
      "cell_type": "code",
      "execution_count": null,
      "id": "a78c395c-e87e-43da-83b1-ff947082d4f6",
      "metadata": {
        "id": "a78c395c-e87e-43da-83b1-ff947082d4f6",
        "outputId": "7562d031-bd44-473b-ab18-d6b79eff8de3"
      },
      "outputs": [
        {
          "data": {
            "text/plain": [
              "Fraction(1, 8)"
            ]
          },
          "execution_count": 73,
          "metadata": {},
          "output_type": "execute_result"
        }
      ],
      "source": [
        "prob = p(A,Omega)\n",
        "prob"
      ]
    },
    {
      "cell_type": "markdown",
      "id": "74866fd8-1b0b-46bc-bd2b-f2ad88365b6c",
      "metadata": {
        "id": "74866fd8-1b0b-46bc-bd2b-f2ad88365b6c"
      },
      "source": [
        "# Probabilidad condicional\n",
        "\n",
        "Definimos la probabilidad de que ocurra un evento $A$ sabiendo que ocurre el evento $B$,\n",
        "$$ \\mathbb{P}(A \\mid B) = \\frac{\\mathbb{P}(A \\cap B)}{\\mathbb{P}(B)} = \\frac{\\# A\\cap B}{\\#B} $$\n",
        "donde $\\mathbb{P}(B)>0$."
      ]
    },
    {
      "cell_type": "code",
      "execution_count": null,
      "id": "beb84aa0-c61b-42fe-8046-c213d18e74e0",
      "metadata": {
        "id": "beb84aa0-c61b-42fe-8046-c213d18e74e0"
      },
      "outputs": [],
      "source": [
        "def prob_cond(E,F):\n",
        "    return len(E & F) / len(F)"
      ]
    },
    {
      "cell_type": "markdown",
      "id": "7c3e9e27-5620-41f0-b0b2-1d79c6da385b",
      "metadata": {
        "id": "7c3e9e27-5620-41f0-b0b2-1d79c6da385b"
      },
      "source": [
        "Quiero calcular la probabilidad condicional de los siguientes eventos:\n",
        "* El primer lanzamiento es águila\n",
        "* Dos de los resultados son águila"
      ]
    },
    {
      "cell_type": "code",
      "execution_count": null,
      "id": "ce4ef43c-74ec-4c2a-b485-ae4a1553e189",
      "metadata": {
        "id": "ce4ef43c-74ec-4c2a-b485-ae4a1553e189",
        "outputId": "23e979f2-390f-476f-efd3-b069e751d489"
      },
      "outputs": [
        {
          "data": {
            "text/plain": [
              "{('A', 'A', 'A'), ('A', 'A', 'S'), ('A', 'S', 'A'), ('A', 'S', 'S')}"
            ]
          },
          "execution_count": 17,
          "metadata": {},
          "output_type": "execute_result"
        }
      ],
      "source": [
        "# El primer lanzamiento es águila\n",
        "B = { om for om in Omega if om[0]==\"A\"} # el primer lanzamiento es águila\n",
        "B"
      ]
    },
    {
      "cell_type": "code",
      "execution_count": null,
      "id": "9a4bb72c-b3fc-44a8-9de4-9f8922ea4863",
      "metadata": {
        "id": "9a4bb72c-b3fc-44a8-9de4-9f8922ea4863",
        "outputId": "f248fb7a-fe14-46c7-cc12-12f24e824628"
      },
      "outputs": [
        {
          "data": {
            "text/plain": [
              "{('A', 'A', 'S'), ('A', 'S', 'A'), ('S', 'A', 'A')}"
            ]
          },
          "execution_count": 18,
          "metadata": {},
          "output_type": "execute_result"
        }
      ],
      "source": [
        "C = { om for om in Omega if om.count(\"A\")==2}\n",
        "C"
      ]
    },
    {
      "cell_type": "code",
      "execution_count": null,
      "id": "79783de8-4996-47ca-8c7b-998cc0a3cb0b",
      "metadata": {
        "id": "79783de8-4996-47ca-8c7b-998cc0a3cb0b"
      },
      "outputs": [],
      "source": [
        "def prob(E):\n",
        "    return len(E) / len(Omega)"
      ]
    },
    {
      "cell_type": "code",
      "execution_count": null,
      "id": "caa6fda2-baf4-490d-96fe-e7be23ae77dd",
      "metadata": {
        "id": "caa6fda2-baf4-490d-96fe-e7be23ae77dd",
        "outputId": "8220297a-d581-4747-dd12-96e89b88837d"
      },
      "outputs": [
        {
          "data": {
            "text/plain": [
              "0.5"
            ]
          },
          "execution_count": 20,
          "metadata": {},
          "output_type": "execute_result"
        }
      ],
      "source": [
        "prob(B)"
      ]
    },
    {
      "cell_type": "code",
      "execution_count": null,
      "id": "497b8715-04b0-42ba-8f3a-5fdeb0d553d2",
      "metadata": {
        "id": "497b8715-04b0-42ba-8f3a-5fdeb0d553d2",
        "outputId": "264c8ca8-692f-44d5-9e34-445b7e3226bf"
      },
      "outputs": [
        {
          "data": {
            "text/plain": [
              "0.375"
            ]
          },
          "execution_count": 21,
          "metadata": {},
          "output_type": "execute_result"
        }
      ],
      "source": [
        "prob(C)"
      ]
    },
    {
      "cell_type": "code",
      "execution_count": null,
      "id": "397f3acb-4b48-4474-bc5e-04803d6399f3",
      "metadata": {
        "id": "397f3acb-4b48-4474-bc5e-04803d6399f3",
        "outputId": "60040a4b-fe9e-44fa-8b28-81d9114c5870"
      },
      "outputs": [
        {
          "data": {
            "text/plain": [
              "0.6666666666666666"
            ]
          },
          "execution_count": 22,
          "metadata": {},
          "output_type": "execute_result"
        }
      ],
      "source": [
        "prob_cond(B,C)"
      ]
    },
    {
      "cell_type": "markdown",
      "id": "70210fb0-52c2-43f4-8307-4a361afaec1d",
      "metadata": {
        "id": "70210fb0-52c2-43f4-8307-4a361afaec1d"
      },
      "source": [
        "## Independencia de eventos\n",
        "\n",
        "Decimos que dos eventos $A$ y $B$ son independientes si\n",
        "$$ \\mathbb{P}(A\\cap B) = \\mathbb{P}(A)\\mathbb{P}(B)$$\n",
        "o de manera equivalente\n",
        "$$ \\mathbb{P}(A | B ) = \\mathbb{P}(A) $$"
      ]
    },
    {
      "cell_type": "code",
      "execution_count": null,
      "id": "c93e040a-a312-4282-88e3-e40b83fc5b73",
      "metadata": {
        "id": "c93e040a-a312-4282-88e3-e40b83fc5b73"
      },
      "outputs": [],
      "source": [
        "def indep(E,F):\n",
        "    return prob(E & F) == prob(E)*prob(F)"
      ]
    },
    {
      "cell_type": "code",
      "execution_count": null,
      "id": "a6f68f77-d64b-41ef-b0c1-0972170e5c53",
      "metadata": {
        "id": "a6f68f77-d64b-41ef-b0c1-0972170e5c53",
        "outputId": "efd65067-3f8f-43d0-fbcb-45c52ac54301"
      },
      "outputs": [
        {
          "data": {
            "text/plain": [
              "False"
            ]
          },
          "execution_count": 25,
          "metadata": {},
          "output_type": "execute_result"
        }
      ],
      "source": [
        "indep(B,C)"
      ]
    },
    {
      "cell_type": "markdown",
      "id": "7b7eb4fe-0c7e-49ab-b6c1-172921670c3e",
      "metadata": {
        "id": "7b7eb4fe-0c7e-49ab-b6c1-172921670c3e"
      },
      "source": [
        "Vamos a considerar el evento:\n",
        "* $D$: en el segundo lanzamiento es sol"
      ]
    },
    {
      "cell_type": "code",
      "execution_count": null,
      "id": "9dec2962-4089-4f30-b590-7016b18554b2",
      "metadata": {
        "id": "9dec2962-4089-4f30-b590-7016b18554b2",
        "outputId": "1be4b17d-2ed6-44e9-f289-c3c6d267597d"
      },
      "outputs": [
        {
          "data": {
            "text/plain": [
              "{('A', 'S', 'A'), ('A', 'S', 'S'), ('S', 'S', 'A'), ('S', 'S', 'S')}"
            ]
          },
          "execution_count": 27,
          "metadata": {},
          "output_type": "execute_result"
        }
      ],
      "source": [
        "D = { om for om in Omega if om[1]==\"S\"}\n",
        "D"
      ]
    },
    {
      "cell_type": "code",
      "execution_count": null,
      "id": "0926a76f-9b09-4ab8-9f77-df2b1b199729",
      "metadata": {
        "id": "0926a76f-9b09-4ab8-9f77-df2b1b199729",
        "outputId": "611f4e6d-f912-4ed7-b255-98575b2e733a"
      },
      "outputs": [
        {
          "data": {
            "text/plain": [
              "0.5"
            ]
          },
          "execution_count": 28,
          "metadata": {},
          "output_type": "execute_result"
        }
      ],
      "source": [
        "prob(D)"
      ]
    },
    {
      "cell_type": "code",
      "execution_count": null,
      "id": "6d286f4c-53dc-42c7-ae18-876b2a4e8598",
      "metadata": {
        "id": "6d286f4c-53dc-42c7-ae18-876b2a4e8598",
        "outputId": "f62d06b4-41cd-4449-83a2-8bf17ba61f29"
      },
      "outputs": [
        {
          "data": {
            "text/plain": [
              "0.5"
            ]
          },
          "execution_count": 29,
          "metadata": {},
          "output_type": "execute_result"
        }
      ],
      "source": [
        "prob_cond(B,D)"
      ]
    },
    {
      "cell_type": "code",
      "execution_count": null,
      "id": "ae753237-681d-4814-a52c-c6e144aeff23",
      "metadata": {
        "id": "ae753237-681d-4814-a52c-c6e144aeff23",
        "outputId": "9fb833a2-f85a-4a78-8fe5-3a094b1d421a"
      },
      "outputs": [
        {
          "data": {
            "text/plain": [
              "True"
            ]
          },
          "execution_count": 30,
          "metadata": {},
          "output_type": "execute_result"
        }
      ],
      "source": [
        "indep(B,D)"
      ]
    },
    {
      "cell_type": "markdown",
      "id": "2e825327-e276-41ab-8060-74ea018b2795",
      "metadata": {
        "id": "2e825327-e276-41ab-8060-74ea018b2795"
      },
      "source": [
        "Quiero verificar si $B$, $C$ y $D$ son independientes:"
      ]
    },
    {
      "cell_type": "code",
      "execution_count": null,
      "id": "a6e1cd15-f8a0-4e65-a702-b193465a6d46",
      "metadata": {
        "id": "a6e1cd15-f8a0-4e65-a702-b193465a6d46",
        "outputId": "1374cec9-e5b2-4b04-e41b-034ff4bd17ac"
      },
      "outputs": [
        {
          "data": {
            "text/plain": [
              "True"
            ]
          },
          "execution_count": 32,
          "metadata": {},
          "output_type": "execute_result"
        }
      ],
      "source": [
        "indep(B,D)"
      ]
    },
    {
      "cell_type": "code",
      "execution_count": null,
      "id": "932765f3-9213-4bd0-8a9e-2297a1930cdb",
      "metadata": {
        "id": "932765f3-9213-4bd0-8a9e-2297a1930cdb",
        "outputId": "5356184f-e715-49b5-9611-f6bb1568f82f"
      },
      "outputs": [
        {
          "data": {
            "text/plain": [
              "False"
            ]
          },
          "execution_count": 33,
          "metadata": {},
          "output_type": "execute_result"
        }
      ],
      "source": [
        "indep(C,D)"
      ]
    },
    {
      "cell_type": "code",
      "execution_count": null,
      "id": "9ce5f203-98f5-4f7d-9ab1-e3b7ecf4321c",
      "metadata": {
        "id": "9ce5f203-98f5-4f7d-9ab1-e3b7ecf4321c",
        "outputId": "ecab33c3-c137-4365-bf2d-8ae8562a0b78"
      },
      "outputs": [
        {
          "data": {
            "text/plain": [
              "False"
            ]
          },
          "execution_count": 34,
          "metadata": {},
          "output_type": "execute_result"
        }
      ],
      "source": [
        "indep(B,C)"
      ]
    },
    {
      "cell_type": "markdown",
      "id": "9924a382-4b17-4c26-a35f-ad057f797f3d",
      "metadata": {
        "id": "9924a382-4b17-4c26-a35f-ad057f797f3d"
      },
      "source": [
        "Por lo tanto, los eventos no son independientes."
      ]
    },
    {
      "cell_type": "markdown",
      "id": "b668990b-e924-412f-b5e4-4ef27e5b2072",
      "metadata": {
        "id": "b668990b-e924-412f-b5e4-4ef27e5b2072"
      },
      "source": [
        "**EJEMPLO** Sea el experimento aleatorio de lanzar un dado dos veces. Sabemos que el espacio muestral es el siguiente:\n",
        "$$ \\Omega = \\{ (i,j) | i,j \\in \\{1,2,3,4,5,6 \\} \\} = \\{1,2,3,4,5,6 \\} \\times \\{1,2,3,4,5,6 \\} = \\{1,2,3,4,5,6 \\}^2$$\n",
        "y además $\\#\\Omega = 6^2 = 36$"
      ]
    },
    {
      "cell_type": "code",
      "execution_count": null,
      "id": "800de47d-67c1-427b-b04e-50a7a6cdf251",
      "metadata": {
        "id": "800de47d-67c1-427b-b04e-50a7a6cdf251",
        "outputId": "7fa635aa-dfea-4bbb-f5f2-146dd1ab9bf9"
      },
      "outputs": [
        {
          "data": {
            "text/plain": [
              "{(1, 1),\n",
              " (1, 2),\n",
              " (1, 3),\n",
              " (1, 4),\n",
              " (1, 5),\n",
              " (1, 6),\n",
              " (2, 1),\n",
              " (2, 2),\n",
              " (2, 3),\n",
              " (2, 4),\n",
              " (2, 5),\n",
              " (2, 6),\n",
              " (3, 1),\n",
              " (3, 2),\n",
              " (3, 3),\n",
              " (3, 4),\n",
              " (3, 5),\n",
              " (3, 6),\n",
              " (4, 1),\n",
              " (4, 2),\n",
              " (4, 3),\n",
              " (4, 4),\n",
              " (4, 5),\n",
              " (4, 6),\n",
              " (5, 1),\n",
              " (5, 2),\n",
              " (5, 3),\n",
              " (5, 4),\n",
              " (5, 5),\n",
              " (5, 6),\n",
              " (6, 1),\n",
              " (6, 2),\n",
              " (6, 3),\n",
              " (6, 4),\n",
              " (6, 5),\n",
              " (6, 6)}"
            ]
          },
          "execution_count": 81,
          "metadata": {},
          "output_type": "execute_result"
        }
      ],
      "source": [
        "Omega_dado =  set( product([1,2,3,4,5,6],repeat=2 ))\n",
        "Omega_dado"
      ]
    },
    {
      "cell_type": "code",
      "execution_count": null,
      "id": "09d06f20-69ba-4d30-b2ad-1312f40ca58e",
      "metadata": {
        "id": "09d06f20-69ba-4d30-b2ad-1312f40ca58e",
        "outputId": "4a6cb13e-24c8-4709-d540-b1d1ed3cccb6"
      },
      "outputs": [
        {
          "data": {
            "text/plain": [
              "36"
            ]
          },
          "execution_count": 83,
          "metadata": {},
          "output_type": "execute_result"
        }
      ],
      "source": [
        "cardOm = len(Omega_dado)\n",
        "cardOm"
      ]
    },
    {
      "cell_type": "markdown",
      "id": "ae1e04c1-6e96-4770-b6fd-aff5822b3702",
      "metadata": {
        "id": "ae1e04c1-6e96-4770-b6fd-aff5822b3702"
      },
      "source": [
        "Definimos el evento:\n",
        "* $S_n$: la suma de los dados en $n$\n",
        "y escrito como conjunto es\n",
        "$$ S_n = \\{ (i,j)\\in\\Omega \\mid i+j = n \\}$$"
      ]
    },
    {
      "cell_type": "code",
      "execution_count": null,
      "id": "6814536b-69ab-4bac-bb1a-437a447aa93f",
      "metadata": {
        "id": "6814536b-69ab-4bac-bb1a-437a447aa93f"
      },
      "outputs": [],
      "source": [
        "def S(n):\n",
        "    Sn = { (i,j) for i in range(1,7) for j in range(1,7) if i+j == n }\n",
        "    return Sn"
      ]
    },
    {
      "cell_type": "code",
      "execution_count": null,
      "id": "9cbbef8a-f404-4755-b9a6-262817a5f297",
      "metadata": {
        "id": "9cbbef8a-f404-4755-b9a6-262817a5f297"
      },
      "outputs": [],
      "source": [
        "S_nueve = S(9)\n",
        "S_nueve\n"
      ]
    },
    {
      "cell_type": "code",
      "execution_count": null,
      "id": "f91b63ec-143f-4655-9b25-4f8e80d8217f",
      "metadata": {
        "id": "f91b63ec-143f-4655-9b25-4f8e80d8217f",
        "outputId": "198c9e2d-3a99-4974-cf7b-39863f44461a"
      },
      "outputs": [
        {
          "data": {
            "text/plain": [
              "0.1111111111111111"
            ]
          },
          "execution_count": 95,
          "metadata": {},
          "output_type": "execute_result"
        }
      ],
      "source": [
        "len(S_nueve) / cardOm"
      ]
    },
    {
      "cell_type": "markdown",
      "id": "943998ac-1712-43b9-bc2e-697a6b4d5ba2",
      "metadata": {
        "id": "943998ac-1712-43b9-bc2e-697a6b4d5ba2"
      },
      "source": [
        "$$ \\mathbb{P}(S(9)) = 4/36 $$"
      ]
    }
  ],
  "metadata": {
    "kernelspec": {
      "display_name": "Python [conda env:base] *",
      "language": "python",
      "name": "conda-base-py"
    },
    "language_info": {
      "codemirror_mode": {
        "name": "ipython",
        "version": 3
      },
      "file_extension": ".py",
      "mimetype": "text/x-python",
      "name": "python",
      "nbconvert_exporter": "python",
      "pygments_lexer": "ipython3",
      "version": "3.12.7"
    },
    "colab": {
      "provenance": [],
      "include_colab_link": true
    }
  },
  "nbformat": 4,
  "nbformat_minor": 5
}