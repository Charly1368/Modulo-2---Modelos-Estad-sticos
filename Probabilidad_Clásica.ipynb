{
  "nbformat": 4,
  "nbformat_minor": 0,
  "metadata": {
    "colab": {
      "provenance": [],
      "authorship_tag": "ABX9TyOvdtrIEFmog8W7cwNJFcOY",
      "include_colab_link": true
    },
    "kernelspec": {
      "name": "python3",
      "display_name": "Python 3"
    },
    "language_info": {
      "name": "python"
    }
  },
  "cells": [
    {
      "cell_type": "markdown",
      "metadata": {
        "id": "view-in-github",
        "colab_type": "text"
      },
      "source": [
        "<a href=\"https://colab.research.google.com/github/Charly1368/Modulo-2---Modelos-Estad-sticos/blob/main/Probabilidad_Cl%C3%A1sica.ipynb\" target=\"_parent\"><img src=\"https://colab.research.google.com/assets/colab-badge.svg\" alt=\"Open In Colab\"/></a>"
      ]
    },
    {
      "cell_type": "markdown",
      "source": [
        "# Probabiliad Laplaciana (clásica)\n",
        "\n",
        "Integrantes del equipo:\n",
        "\n",
        "* Bustillos Araiza Carlos\n",
        "* Espinosa Ponce Beatriz Deite\n",
        "* Gonzalez Muñoz Luciano Gustavo\n",
        "* Sarmiento Ibarra Jonatan\n",
        "\n",
        "\n",
        "Para un experimento aleatorio, se tiene que $\\Omega$ es el espacio muestral.\n",
        "\n",
        "Sea $A$ un evento, entonces\n",
        "\n",
        "$$\\mathbb{P}(A) = \\frac{\\#A}{\\#\\Omega} $$\n",
        "\n",
        "**EJEMPLO: ** Sea el experimento de lanzar una moneda 3 veces, de manera independiente (es decir, el $i$-ésimo lanzamiento no me afecta al $i+1$ lanzamiento). El espacio muestral de este experimento es:\n",
        "\n",
        "$$ \\Omega = \\{A,S\\} \\times \\{A,S\\} \\times \\{A,S\\} = \\{A,S\\}^3 $$\n",
        "\n",
        "* $A$: Todos los resultados son águila\n",
        "* $S$: Todos los resultados son soles\n",
        "* $E$: Por lo menos un resultado es sol\n",
        "\n",
        "Calcular las probabilidades de estos eventos:\n",
        "\n",
        "**Solución** Vamos a descomponer mi conjunto\n",
        "$$A = A_1 \\cap A_2 \\cap A_3 $$\n",
        "donde $A_i$: caé águila en el $i$-ésimo resultado."
      ],
      "metadata": {
        "id": "i1mikF4hoA8n"
      }
    },
    {
      "cell_type": "code",
      "execution_count": 7,
      "metadata": {
        "id": "qGf8f7fZnwm3",
        "colab": {
          "base_uri": "https://localhost:8080/"
        },
        "outputId": "5c9062ef-36e3-46e3-cd95-b35ca66288a7"
      },
      "outputs": [
        {
          "output_type": "execute_result",
          "data": {
            "text/plain": [
              "{('A', 'A', 'A'),\n",
              " ('A', 'A', 'S'),\n",
              " ('A', 'S', 'A'),\n",
              " ('A', 'S', 'S'),\n",
              " ('S', 'A', 'A'),\n",
              " ('S', 'A', 'S'),\n",
              " ('S', 'S', 'A'),\n",
              " ('S', 'S', 'S')}"
            ]
          },
          "metadata": {},
          "execution_count": 7
        }
      ],
      "source": [
        "# Vamos a crear el espacio muestral\n",
        "import itertools #importamos el modulo\n",
        "from itertools import product\n",
        "\n",
        "Omega = set(product({\"A\",\"S\"}, repeat=3))\n",
        "Omega"
      ]
    },
    {
      "cell_type": "code",
      "source": [
        "car = len(Omega) #Cardinalidad de Omega\n",
        "car"
      ],
      "metadata": {
        "colab": {
          "base_uri": "https://localhost:8080/"
        },
        "id": "rjicU4urtaIa",
        "outputId": "069d534b-ab85-45a0-aa1c-792386b92326"
      },
      "execution_count": 9,
      "outputs": [
        {
          "output_type": "execute_result",
          "data": {
            "text/plain": [
              "8"
            ]
          },
          "metadata": {},
          "execution_count": 9
        }
      ]
    },
    {
      "cell_type": "code",
      "source": [
        "# Vamos a crear el evento A_1\n",
        "A_1 = {om for om in Omega if om[0]==\"A\"} #La promera coordenada es águila\n",
        "A_1"
      ],
      "metadata": {
        "colab": {
          "base_uri": "https://localhost:8080/"
        },
        "id": "zOxT2swvto3z",
        "outputId": "9aec08cb-3885-4665-e27c-fb0a064f954e"
      },
      "execution_count": 26,
      "outputs": [
        {
          "output_type": "execute_result",
          "data": {
            "text/plain": [
              "{('A', 'A', 'A'), ('A', 'A', 'S'), ('A', 'S', 'A'), ('A', 'S', 'S')}"
            ]
          },
          "metadata": {},
          "execution_count": 26
        }
      ]
    },
    {
      "cell_type": "code",
      "source": [
        "# Vamos a calcular la probabilidad de A_1\n",
        "P_A1 = len(A_1) / len(Omega)\n",
        "P_A1"
      ],
      "metadata": {
        "colab": {
          "base_uri": "https://localhost:8080/"
        },
        "id": "Oh6HQRQI0vu_",
        "outputId": "518b1de0-c2d2-4c32-cbee-6ccd90216061"
      },
      "execution_count": 14,
      "outputs": [
        {
          "output_type": "execute_result",
          "data": {
            "text/plain": [
              "0.5"
            ]
          },
          "metadata": {},
          "execution_count": 14
        }
      ]
    },
    {
      "cell_type": "code",
      "source": [
        "# Vamos a crear el evento A_2\n",
        "A_2 = {om for om in Omega if om[0]==\"S\"} #La promera coordenada es sol\n",
        "A_2"
      ],
      "metadata": {
        "colab": {
          "base_uri": "https://localhost:8080/"
        },
        "id": "jTjcdz-XvZXq",
        "outputId": "c490b7a0-b2f0-459d-ee23-bc1f4fd1050d"
      },
      "execution_count": 24,
      "outputs": [
        {
          "output_type": "execute_result",
          "data": {
            "text/plain": [
              "{('S', 'A', 'A'), ('S', 'A', 'S'), ('S', 'S', 'A'), ('S', 'S', 'S')}"
            ]
          },
          "metadata": {},
          "execution_count": 24
        }
      ]
    },
    {
      "cell_type": "code",
      "source": [
        "# Vamos a calcular la probabilidad de A_2\n",
        "P_A2 = len(A_2) / len(Omega)\n",
        "P_A2"
      ],
      "metadata": {
        "colab": {
          "base_uri": "https://localhost:8080/"
        },
        "id": "DuafEPnNJOgC",
        "outputId": "e81e26a9-5567-4e25-f2ee-7d851653ad88"
      },
      "execution_count": 16,
      "outputs": [
        {
          "output_type": "execute_result",
          "data": {
            "text/plain": [
              "0.5"
            ]
          },
          "metadata": {},
          "execution_count": 16
        }
      ]
    },
    {
      "cell_type": "code",
      "source": [
        "# Vamos a crear el evento A_3\n",
        "A_3 = {om for om in Omega if \"S\" in om}  # Al menos un resultado es sol\n",
        "A_3"
      ],
      "metadata": {
        "colab": {
          "base_uri": "https://localhost:8080/"
        },
        "id": "adY_Eet4w2W6",
        "outputId": "d40c7ee9-4c2e-4239-98e1-352ee46fe36e"
      },
      "execution_count": 25,
      "outputs": [
        {
          "output_type": "execute_result",
          "data": {
            "text/plain": [
              "{('A', 'A', 'S'),\n",
              " ('A', 'S', 'A'),\n",
              " ('A', 'S', 'S'),\n",
              " ('S', 'A', 'A'),\n",
              " ('S', 'A', 'S'),\n",
              " ('S', 'S', 'A'),\n",
              " ('S', 'S', 'S')}"
            ]
          },
          "metadata": {},
          "execution_count": 25
        }
      ]
    },
    {
      "cell_type": "code",
      "source": [
        "# Vamos a calcular la probabilidad de A_3\n",
        "P_A3 = len(A_3) / len(Omega)\n",
        "P_A3"
      ],
      "metadata": {
        "colab": {
          "base_uri": "https://localhost:8080/"
        },
        "id": "Va00Q6MFJZAY",
        "outputId": "20a6e385-11be-442a-80e2-6096b7402d56"
      },
      "execution_count": 30,
      "outputs": [
        {
          "output_type": "execute_result",
          "data": {
            "text/plain": [
              "0.875"
            ]
          },
          "metadata": {},
          "execution_count": 30
        }
      ]
    },
    {
      "cell_type": "code",
      "source": [],
      "metadata": {
        "id": "WPK6LClpJsyI"
      },
      "execution_count": null,
      "outputs": []
    }
  ]
}