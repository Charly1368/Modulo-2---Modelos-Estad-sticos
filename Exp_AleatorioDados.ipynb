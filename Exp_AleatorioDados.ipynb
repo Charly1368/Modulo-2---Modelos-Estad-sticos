{
  "nbformat": 4,
  "nbformat_minor": 0,
  "metadata": {
    "colab": {
      "provenance": [],
      "authorship_tag": "ABX9TyOrjPG5eKbXgCHe8xR5fx4d",
      "include_colab_link": true
    },
    "kernelspec": {
      "name": "python3",
      "display_name": "Python 3"
    },
    "language_info": {
      "name": "python"
    }
  },
  "cells": [
    {
      "cell_type": "markdown",
      "metadata": {
        "id": "view-in-github",
        "colab_type": "text"
      },
      "source": [
        "<a href=\"https://colab.research.google.com/github/Charly1368/Modulo-2---Modelos-Estad-sticos/blob/main/Exp_AleatorioDados.ipynb\" target=\"_parent\"><img src=\"https://colab.research.google.com/assets/colab-badge.svg\" alt=\"Open In Colab\"/></a>"
      ]
    },
    {
      "cell_type": "markdown",
      "source": [
        "##Equipo 1\n",
        "\n",
        "Integrantes del equipo:\n",
        "\n",
        "* Bustillos Araiza Carlos\n",
        "* Cruz Arce Alexa Clio\n",
        "* Espinosa Ponce Beatriz Deite\n",
        "* Gonzalez Muñoz Luciano Gustavo\n",
        "* Sarmiento Ibarra Jonatan\n",
        "\n",
        "\n",
        "Calcula la Ley del experimento aleatorio de la suma de dos dados honestos:\n",
        "\n",
        "1.   Documenta tu Colab/Notebook\n",
        "\n",
        "2.   Calcular la ley siguiendo un procedimiento similar al de clase\n",
        "\n",
        "## El espacio muestral asociado a un experimento aleatorio\n",
        "\n",
        "El espacio muestral $\\Omega$ del experimento aleatorio de lanzar dos dados honestos, esta compuesto por todas las pearejas ordenadas $(i,j)$ tales que $1 \\leq i,j \\leq 6$\n",
        "\n",
        "\n",
        "$$\\Omega = \\{ (i,j) \\mid 1 \\leq i,j \\leq 6 \\} $$\n",
        "\n",
        "y sabemos que $\\#\\Omega = 6^2 = 36$\n",
        "\n",
        "3. Verifica en cada caso, que:\n",
        "\n",
        "   $$\\sum_{k\\in R_{X}}\\mathbb{P}(X=k) = 1$$\n",
        "\n",
        "4. Gráfica la función de densidad:\n",
        "\n",
        "     Aquí pueden utilizar Python (para los que ya tengan conocimiento previo de matplotlib)\n",
        "     \n",
        "5. Sube tu notebook a GitHub"
      ],
      "metadata": {
        "id": "wC8s11oI6CHw"
      }
    },
    {
      "cell_type": "code",
      "execution_count": 20,
      "metadata": {
        "colab": {
          "base_uri": "https://localhost:8080/"
        },
        "id": "fmvLhcxE22ON",
        "outputId": "a82b8f79-f2c9-4379-c002-7bc735e01efe"
      },
      "outputs": [
        {
          "output_type": "execute_result",
          "data": {
            "text/plain": [
              "[(1, 1),\n",
              " (1, 2),\n",
              " (1, 3),\n",
              " (1, 4),\n",
              " (1, 5),\n",
              " (1, 6),\n",
              " (2, 1),\n",
              " (2, 2),\n",
              " (2, 3),\n",
              " (2, 4),\n",
              " (2, 5),\n",
              " (2, 6),\n",
              " (3, 1),\n",
              " (3, 2),\n",
              " (3, 3),\n",
              " (3, 4),\n",
              " (3, 5),\n",
              " (3, 6),\n",
              " (4, 1),\n",
              " (4, 2),\n",
              " (4, 3),\n",
              " (4, 4),\n",
              " (4, 5),\n",
              " (4, 6),\n",
              " (5, 1),\n",
              " (5, 2),\n",
              " (5, 3),\n",
              " (5, 4),\n",
              " (5, 5),\n",
              " (5, 6),\n",
              " (6, 1),\n",
              " (6, 2),\n",
              " (6, 3),\n",
              " (6, 4),\n",
              " (6, 5),\n",
              " (6, 6)]"
            ]
          },
          "metadata": {},
          "execution_count": 20
        }
      ],
      "source": [
        "import numpy as np\n",
        "import pandas as pd\n",
        "import matplotlib.pyplot as plt\n",
        "\n",
        "# Paso 1: Definir el espacio muestral\n",
        "Omega = [(i, j) for i in range(1, 7) for j in range(1, 7)]\n",
        "num_omega = len(Omega)  # Total de casos posibles (36)\n",
        "Omega"
      ]
    },
    {
      "cell_type": "code",
      "source": [
        "# Paso 2: Definir el evento Sn (sumas posibles de dos dados)\n",
        "S = {}  # Diccionario para almacenar las sumas de los dados\n",
        "\n",
        "for i, j in Omega:\n",
        "    suma = i + j\n",
        "    if suma in S:\n",
        "            S[suma].append((i, j))\n",
        "    else:\n",
        "            S[suma] = [(i, j)]\n",
        "\n",
        "print(S)\n",
        "\n",
        "# Paso 3: Definir la función de probabilidad P(A)\n",
        "def P(A):\n",
        "    return len(A) / num_omega"
      ],
      "metadata": {
        "colab": {
          "base_uri": "https://localhost:8080/"
        },
        "id": "OrACND2Y5E_1",
        "outputId": "b709256d-1c0f-4eae-c528-edede61b81f4"
      },
      "execution_count": 25,
      "outputs": [
        {
          "output_type": "stream",
          "name": "stdout",
          "text": [
            "{2: [(1, 1)], 3: [(1, 2), (2, 1)], 4: [(1, 3), (2, 2), (3, 1)], 5: [(1, 4), (2, 3), (3, 2), (4, 1)], 6: [(1, 5), (2, 4), (3, 3), (4, 2), (5, 1)], 7: [(1, 6), (2, 5), (3, 4), (4, 3), (5, 2), (6, 1)], 8: [(2, 6), (3, 5), (4, 4), (5, 3), (6, 2)], 9: [(3, 6), (4, 5), (5, 4), (6, 3)], 10: [(4, 6), (5, 5), (6, 4)], 11: [(5, 6), (6, 5)], 12: [(6, 6)]}\n"
          ]
        }
      ]
    },
    {
      "cell_type": "code",
      "source": [
        "# Paso 4: Calcular la ley de probabilidad (función de densidad)\n",
        "LeyS = {suma: P(pares) for suma, pares in S.items()}\n",
        "\n",
        "# Paso 5: Crear una Serie en Pandas\n",
        "ley_S = pd.Series(LeyS)\n",
        "\n",
        "LeyS\n",
        "ley_S"
      ],
      "metadata": {
        "colab": {
          "base_uri": "https://localhost:8080/",
          "height": 429
        },
        "id": "5xBWpxpT5RHd",
        "outputId": "d4e3f45f-60c5-495d-a8d7-92618e087268"
      },
      "execution_count": 26,
      "outputs": [
        {
          "output_type": "execute_result",
          "data": {
            "text/plain": [
              "2     0.027778\n",
              "3     0.055556\n",
              "4     0.083333\n",
              "5     0.111111\n",
              "6     0.138889\n",
              "7     0.166667\n",
              "8     0.138889\n",
              "9     0.111111\n",
              "10    0.083333\n",
              "11    0.055556\n",
              "12    0.027778\n",
              "dtype: float64"
            ],
            "text/html": [
              "<div>\n",
              "<style scoped>\n",
              "    .dataframe tbody tr th:only-of-type {\n",
              "        vertical-align: middle;\n",
              "    }\n",
              "\n",
              "    .dataframe tbody tr th {\n",
              "        vertical-align: top;\n",
              "    }\n",
              "\n",
              "    .dataframe thead th {\n",
              "        text-align: right;\n",
              "    }\n",
              "</style>\n",
              "<table border=\"1\" class=\"dataframe\">\n",
              "  <thead>\n",
              "    <tr style=\"text-align: right;\">\n",
              "      <th></th>\n",
              "      <th>0</th>\n",
              "    </tr>\n",
              "  </thead>\n",
              "  <tbody>\n",
              "    <tr>\n",
              "      <th>2</th>\n",
              "      <td>0.027778</td>\n",
              "    </tr>\n",
              "    <tr>\n",
              "      <th>3</th>\n",
              "      <td>0.055556</td>\n",
              "    </tr>\n",
              "    <tr>\n",
              "      <th>4</th>\n",
              "      <td>0.083333</td>\n",
              "    </tr>\n",
              "    <tr>\n",
              "      <th>5</th>\n",
              "      <td>0.111111</td>\n",
              "    </tr>\n",
              "    <tr>\n",
              "      <th>6</th>\n",
              "      <td>0.138889</td>\n",
              "    </tr>\n",
              "    <tr>\n",
              "      <th>7</th>\n",
              "      <td>0.166667</td>\n",
              "    </tr>\n",
              "    <tr>\n",
              "      <th>8</th>\n",
              "      <td>0.138889</td>\n",
              "    </tr>\n",
              "    <tr>\n",
              "      <th>9</th>\n",
              "      <td>0.111111</td>\n",
              "    </tr>\n",
              "    <tr>\n",
              "      <th>10</th>\n",
              "      <td>0.083333</td>\n",
              "    </tr>\n",
              "    <tr>\n",
              "      <th>11</th>\n",
              "      <td>0.055556</td>\n",
              "    </tr>\n",
              "    <tr>\n",
              "      <th>12</th>\n",
              "      <td>0.027778</td>\n",
              "    </tr>\n",
              "  </tbody>\n",
              "</table>\n",
              "</div><br><label><b>dtype:</b> float64</label>"
            ]
          },
          "metadata": {},
          "execution_count": 26
        }
      ]
    },
    {
      "cell_type": "code",
      "source": [
        "# Paso 6: Verificar que la suma de probabilidades sea 1\n",
        "suma_probabilidades = ley_S.sum()\n",
        "assert np.isclose(suma_probabilidades, 1), \"Las probabilidades no suman 1\"\n",
        "\n",
        "suma_probabilidades"
      ],
      "metadata": {
        "colab": {
          "base_uri": "https://localhost:8080/"
        },
        "id": "di-iobj65hmd",
        "outputId": "8812aa19-dac6-40de-ddf0-9fde5b2113a9"
      },
      "execution_count": 27,
      "outputs": [
        {
          "output_type": "execute_result",
          "data": {
            "text/plain": [
              "1.0"
            ]
          },
          "metadata": {},
          "execution_count": 27
        }
      ]
    },
    {
      "cell_type": "code",
      "source": [
        "# Paso 7: Graficar la función de densidad\n",
        "plt.figure(figsize=(8, 5))\n",
        "plt.bar(ley_S.index, ley_S.values, color='blue', alpha=0.7)\n",
        "plt.xlabel(\"Suma de los dados\")\n",
        "plt.ylabel(\"Probabilidad\")\n",
        "plt.title(\"Función de Densidad de la Suma de Dos Dados\")\n",
        "plt.xticks(range(2, 13))\n",
        "plt.grid(axis='y', linestyle='--', alpha=0.7)\n",
        "plt.show()"
      ],
      "metadata": {
        "colab": {
          "base_uri": "https://localhost:8080/",
          "height": 487
        },
        "id": "SH-Yd5eN5vED",
        "outputId": "cca8b7aa-4e98-4ef8-a87c-ed2439e9f378"
      },
      "execution_count": 28,
      "outputs": [
        {
          "output_type": "display_data",
          "data": {
            "text/plain": [
              "<Figure size 800x500 with 1 Axes>"
            ],
            "image/png": "[encoded data removed]"
          },
          "metadata": {}
        }
      ]
    }
  ]
}